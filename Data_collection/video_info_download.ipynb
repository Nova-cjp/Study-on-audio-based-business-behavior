{
 "cells": [
  {
   "cell_type": "code",
   "execution_count": 5,
   "metadata": {},
   "outputs": [
    {
     "name": "stdout",
     "output_type": "stream",
     "text": [
      "300853\n",
      "https://rs.p5w.net/html/131297.shtml\n",
      "10\n",
      "6237f4817a951080f75386a4\n"
     ]
    },
    {
     "name": "stderr",
     "output_type": "stream",
     "text": [
      "<ipython-input-5-b0c6eeaced55>:64: DeprecationWarning: insert is deprecated. Use insert_one or insert_many instead.\n",
      "  result=collection.insert(QA_assemble)\n"
     ]
    },
    {
     "name": "stdout",
     "output_type": "stream",
     "text": [
      "6237f4827a951080f75386a5\n",
      "6237f4827a951080f75386a6\n",
      "6237f4827a951080f75386a7\n",
      "6237f4827a951080f75386a8\n",
      "6237f4827a951080f75386a9\n",
      "6237f4827a951080f75386aa\n",
      "6237f4827a951080f75386ab\n",
      "6237f4827a951080f75386ac\n",
      "6237f4827a951080f75386ad\n",
      "你好，黎总，对于轨道交通巡检机器人预计今年的销售产量能达到多少销售额。\n",
      "您好，关于经营性相关信息请关注公司相关公告，感谢您对公司的关注。\n",
      "如何看待资本市场上的资本运作？\n",
      "您好，资本市场运作是企业在谋求发展或是进行战略重组时，对其资源进行重新配置的一种工具，其具有两面性，使用得当，就能使企业良性发展。我们将会以产品市场经营作为基础进行资本市场运作，前者是基础，后者是工具，两者相辅相成。谢谢。\n",
      "请问本次补充流动资金的合理性\n",
      "您好：近年来，公司不断完善产品性能，积极拓展应用领域，稳步推进发展战略，经营业绩保持较高增长趋势。 2018 年至 2020 年，公司营业收入分别为 36,117.59 万元、 40,452.89 万元和 61,155.05 万元，持续快速增长。随着公司经营规模的不断扩大与发展提速，单纯依靠自身积累的资金已不能满足未来业务发展对资金的需求。此外，电力系统及轨道交通领域均关乎国计民生，电网系统和轨交系统客户对公司产品质量和稳定性提出了较高的要求，公司需要加强研发和售后服务力量、需要持续资金支持和人员投入，从而产生大量的流动资金需求。同时，通过补充流动资金增强公司资金实力，有利于公司持续投入技术研发、产品研发等，保持技术领先优势，响应国家战略性新兴产业发展需要，充分把握市场机遇。谢谢！\n",
      "公司巡检机器人价格趋势？毛利率会保持增长吗？\n",
      "您好：公司2021年前三季度主营业务毛利率为53.47%。公司单个产品存在一定的生命周期，前期价格、毛利率较高，后期随着客户规模化采购，公司产品进入成熟期后存在着需求量增加而价格下降的风险。公司与下游电力客户形成了长期稳定的合作关系，公司可以更贴合客户需求进行研发，使得公司能够持续研发出高毛利率新产品提高产品附加值，以保持公司整体产品的毛利率。另一方面随着产品需求量的提升，公司也通过规模化生产、降低产品生产成本，提升毛利率空间。谢谢！\n",
      "用于本次可转债转股的股票来源是哪些？\n",
      "您好！本次可转换公司债券仅使用新增股份转股。谢谢！\n",
      "转债发行半年后，如果股价比转股价上涨130%，公司有强制赎回的意愿吗？\n",
      "您好，公司将根据实际情况考虑是否赎回。谢谢。\n",
      "转债的票面利率是多少？\n",
      "您好！本次发行的可转换公司债券票面利率为第一年0.3%、第二年0.5%、第三年1.0%、第四年1.8%、第五年2.4%、第六年3.0%。谢谢！\n",
      "公司高管参与的转债是否有锁定期？\n",
      "您好，公司高管本次可转债若认购成功，将严格遵守短线交易的相关规定。谢谢！\n",
      "请问本次发行的承销方式\n",
      "您好，本次发行由主承销商（华泰联合证券）以余额包销方式承销。谢谢。\n",
      "可转债有没有担保？\n",
      "您好，公司本次发行的可转换公司债券不提供担保，谢谢！\n"
     ]
    }
   ],
   "source": [
    "import pandas as pd\n",
    "\n",
    "#启动浏览器\n",
    "from selenium import webdriver\n",
    "from selenium.webdriver.chrome.options import Options\n",
    "\n",
    "#用于网页元素加载判定\n",
    "from selenium.webdriver.common.by import By\n",
    "from selenium.webdriver.support.ui import WebDriverWait\n",
    "from selenium.webdriver.support import expected_conditions as EC\n",
    "from selenium.webdriver.common.action_chains import ActionChains\n",
    "from selenium.webdriver.common.keys import Keys\n",
    "chrome_options = Options()\n",
    "chrome_options.add_experimental_option('w3c', False)\n",
    "chrome_options.add_argument('--ignore-certificate-errors')\n",
    "driver = webdriver.Chrome(chrome_options=chrome_options)\n",
    "\n",
    "import re\n",
    "f=open(r'D:\\Graduation_project\\video\\Release_Roadshow\\company.txt','r')\n",
    "li=f.readlines()\n",
    "prog_1=re.compile(r'[(](.*?)[)]')\n",
    "prog_2=re.compile('https://rs.p5w.net/html/[0-9]+?\\.shtml')\n",
    "\n",
    "wait=WebDriverWait(driver,10)\n",
    "import time\n",
    "import subprocess\n",
    "import pymongo\n",
    "\n",
    "client=pymongo.MongoClient(host='localhost',port=27017)\n",
    "db=client.roadshow\n",
    "collection=db.QA_assemble\n",
    "\n",
    "for line in li:\n",
    "    company_number=prog_1.findall(line)[0]\n",
    "    print(company_number)\n",
    "    company_url=prog_2.findall(line)[0]\n",
    "    print(company_url)\n",
    "    driver.get(company_url)\n",
    "    quest_ask_btn=wait.until(EC.presence_of_element_located((By.XPATH,'//*[@id=\"interact\"]/div[2]/div[1]/nav/a[2]'))).click()\n",
    " \n",
    "    element_list=driver.find_element_by_xpath('//*[@id=\"interact\"]/div[2]/div[2]/div[2]/ul')\n",
    "\n",
    "#     for i in range(1000):\n",
    "#         actions=ActionChains(driver)\n",
    "#         #actions.click_and_hold(element_list)\n",
    "#         actions.move_to_element(element_list)\n",
    "#         actions.key_down(Keys.DOWN)\n",
    "#         actions.perform()\n",
    "#         time.sleep(0.05)\n",
    "    quest_answer_assemble=driver.find_element_by_xpath(r'//*[@id=\"interact\"]/div[2]/div[2]/div[2]/ul')\n",
    "    quest_answer_assemble_num=len(quest_answer_assemble.find_elements_by_xpath('li'))\n",
    "    print(quest_answer_assemble_num)\n",
    "\n",
    "    for i in range(quest_answer_assemble_num):\n",
    "        quest_text_xpath='//*[@id=\"interact\"]/div[2]/div[2]/div[2]/ul/li['+str(i+1)+']/div[1]/div'\n",
    "        quest=driver.find_element_by_xpath(quest_text_xpath).text\n",
    "        answer_text_xpath='//*[@id=\"interact\"]/div[2]/div[2]/div[2]/ul/li['+str(i+1)+']/div[2]/div'\n",
    "        answer=driver.find_element_by_xpath(answer_text_xpath).text\n",
    "        QA_assemble={\n",
    "            'company_number':company_number,\n",
    "            'quest':quest,\n",
    "            'answer':answer\n",
    "        }\n",
    "        result=collection.insert(QA_assemble)\n",
    "        print(result)\n",
    "        \n",
    "search_results=collection.find({'company_number':company_number})\n",
    "for search_result in search_results:\n",
    "    print(search_result['quest'])\n",
    "    print(search_result['answer'])\n",
    "        \n",
    "        \n",
    "        \n",
    "    \n",
    "#     //*[@id=\"interact\"]/div[2]/div[2]/div[2]/ul/li[1]/div[1]/div/text()\n",
    "#     //*[@id=\"interact\"]/div[2]/div[2]/div[2]/ul/li[1]/div[2]/div/text()    \n",
    "\n",
    "    "
   ]
  },
  {
   "cell_type": "code",
   "execution_count": null,
   "metadata": {},
   "outputs": [],
   "source": []
  },
  {
   "cell_type": "code",
   "execution_count": null,
   "metadata": {},
   "outputs": [],
   "source": []
  }
 ],
 "metadata": {
  "kernelspec": {
   "display_name": "Python 3",
   "language": "python",
   "name": "python3"
  },
  "language_info": {
   "codemirror_mode": {
    "name": "ipython",
    "version": 3
   },
   "file_extension": ".py",
   "mimetype": "text/x-python",
   "name": "python",
   "nbconvert_exporter": "python",
   "pygments_lexer": "ipython3",
   "version": "3.8.5"
  }
 },
 "nbformat": 4,
 "nbformat_minor": 4
}
